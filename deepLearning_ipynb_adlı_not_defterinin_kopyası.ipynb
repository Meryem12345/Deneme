{
  "cells": [
    {
      "cell_type": "markdown",
      "metadata": {
        "id": "view-in-github",
        "colab_type": "text"
      },
      "source": [
        "<a href=\"https://colab.research.google.com/github/Meryem12345/Deneme/blob/main/deepLearning_ipynb_adl%C4%B1_not_defterinin_kopyas%C4%B1.ipynb\" target=\"_parent\"><img src=\"https://colab.research.google.com/assets/colab-badge.svg\" alt=\"Open In Colab\"/></a>"
      ]
    },
    {
      "cell_type": "code",
      "execution_count": 13,
      "metadata": {
        "colab": {
          "base_uri": "https://localhost:8080/"
        },
        "id": "G8Lw0D3SAwG_",
        "outputId": "52916ce9-941b-4b54-dde8-5e77f1bb6746"
      },
      "outputs": [
        {
          "output_type": "stream",
          "name": "stdout",
          "text": [
            "[nltk_data] Downloading package punkt to /root/nltk_data...\n",
            "[nltk_data]   Package punkt is already up-to-date!\n",
            "[nltk_data] Downloading package stopwords to /root/nltk_data...\n",
            "[nltk_data]   Package stopwords is already up-to-date!\n"
          ]
        },
        {
          "output_type": "execute_result",
          "data": {
            "text/plain": [
              "['acaba',\n",
              " 'ama',\n",
              " 'aslında',\n",
              " 'az',\n",
              " 'bazı',\n",
              " 'belki',\n",
              " 'biri',\n",
              " 'birkaç',\n",
              " 'birşey',\n",
              " 'biz',\n",
              " 'bu',\n",
              " 'çok',\n",
              " 'çünkü',\n",
              " 'da',\n",
              " 'daha',\n",
              " 'de',\n",
              " 'defa',\n",
              " 'diye',\n",
              " 'eğer',\n",
              " 'en',\n",
              " 'gibi',\n",
              " 'hem',\n",
              " 'hep',\n",
              " 'hepsi',\n",
              " 'her',\n",
              " 'hiç',\n",
              " 'için',\n",
              " 'ile',\n",
              " 'ise',\n",
              " 'kez',\n",
              " 'ki',\n",
              " 'kim',\n",
              " 'mı',\n",
              " 'mu',\n",
              " 'mü',\n",
              " 'nasıl',\n",
              " 'ne',\n",
              " 'neden',\n",
              " 'nerde',\n",
              " 'nerede',\n",
              " 'nereye',\n",
              " 'niçin',\n",
              " 'niye',\n",
              " 'o',\n",
              " 'sanki',\n",
              " 'şey',\n",
              " 'siz',\n",
              " 'şu',\n",
              " 'tüm',\n",
              " 've',\n",
              " 'veya',\n",
              " 'ya',\n",
              " 'yani']"
            ]
          },
          "metadata": {},
          "execution_count": 13
        }
      ],
      "source": [
        "import numpy as np\n",
        "import pandas as pd\n",
        "from tensorflow.python.keras.models import Sequential\n",
        "from tensorflow.python.keras.layers import Dense, GRU, Embedding, LSTM\n",
        "from tensorflow.keras.optimizers import Adam # - Works\n",
        "from keras.preprocessing.text import Tokenizer\n",
        "from keras.preprocessing.sequence import pad_sequences\n",
        "from tensorflow.python.keras.models import load_model\n",
        "from TurkishStemmer import TurkishStemmer\n",
        "import re\n",
        "import nltk\n",
        "\n",
        "nltk.download('punkt')\n",
        "nltk.download('stopwords')\n",
        "from nltk.corpus import stopwords\n",
        "WPT = nltk.WordPunctTokenizer()\n",
        "stop_word_list = nltk.corpus.stopwords.words('turkish')\n",
        "stop_word_list"
      ]
    },
    {
      "cell_type": "code",
      "source": [
        "!pip install TurkishStemmer "
      ],
      "metadata": {
        "colab": {
          "base_uri": "https://localhost:8080/"
        },
        "id": "0iuqWcfjCo02",
        "outputId": "1edf51fd-b7b6-43ec-9d28-5df11fdcef90"
      },
      "execution_count": 14,
      "outputs": [
        {
          "output_type": "stream",
          "name": "stdout",
          "text": [
            "Requirement already satisfied: TurkishStemmer in /usr/local/lib/python3.7/dist-packages (1.3)\n"
          ]
        }
      ]
    },
    {
      "cell_type": "code",
      "execution_count": 15,
      "metadata": {
        "colab": {
          "base_uri": "https://localhost:8080/",
          "height": 423
        },
        "id": "UkRlIUPX-gxG",
        "outputId": "1c66c40b-480c-49fc-e42a-9b794dc85595"
      },
      "outputs": [
        {
          "output_type": "execute_result",
          "data": {
            "text/plain": [
              "                                               Text  Sentiment\n",
              "0             bana beklediğim cevapları vermiyorsun          0\n",
              "1            senden istediğim cevaplar bunlar değil          0\n",
              "2                     verdiğin yanıtlar doğru değil          0\n",
              "3            duymak istediğim cevaplar bunlar değil          0\n",
              "4                                seni seviyorum bro          1\n",
              "...                                             ...        ...\n",
              "19018   J7 Pro Cihazı Geldi Fakat Faturası Gelmedi!          0\n",
              "19019        Müşteri Hizmetlerine Ulaşamama Sorunu!          0\n",
              "19020                           Para İadesi Sorunu!          0\n",
              "19021                                Mağdur Ediyor!          0\n",
              "19022        Ürünü Aldığı Halde Parayı İade Etmedi!          0\n",
              "\n",
              "[19023 rows x 2 columns]"
            ],
            "text/html": [
              "\n",
              "  <div id=\"df-d5076b9d-3065-4e66-9677-aa56ea936839\">\n",
              "    <div class=\"colab-df-container\">\n",
              "      <div>\n",
              "<style scoped>\n",
              "    .dataframe tbody tr th:only-of-type {\n",
              "        vertical-align: middle;\n",
              "    }\n",
              "\n",
              "    .dataframe tbody tr th {\n",
              "        vertical-align: top;\n",
              "    }\n",
              "\n",
              "    .dataframe thead th {\n",
              "        text-align: right;\n",
              "    }\n",
              "</style>\n",
              "<table border=\"1\" class=\"dataframe\">\n",
              "  <thead>\n",
              "    <tr style=\"text-align: right;\">\n",
              "      <th></th>\n",
              "      <th>Text</th>\n",
              "      <th>Sentiment</th>\n",
              "    </tr>\n",
              "  </thead>\n",
              "  <tbody>\n",
              "    <tr>\n",
              "      <th>0</th>\n",
              "      <td>bana beklediğim cevapları vermiyorsun</td>\n",
              "      <td>0</td>\n",
              "    </tr>\n",
              "    <tr>\n",
              "      <th>1</th>\n",
              "      <td>senden istediğim cevaplar bunlar değil</td>\n",
              "      <td>0</td>\n",
              "    </tr>\n",
              "    <tr>\n",
              "      <th>2</th>\n",
              "      <td>verdiğin yanıtlar doğru değil</td>\n",
              "      <td>0</td>\n",
              "    </tr>\n",
              "    <tr>\n",
              "      <th>3</th>\n",
              "      <td>duymak istediğim cevaplar bunlar değil</td>\n",
              "      <td>0</td>\n",
              "    </tr>\n",
              "    <tr>\n",
              "      <th>4</th>\n",
              "      <td>seni seviyorum bro</td>\n",
              "      <td>1</td>\n",
              "    </tr>\n",
              "    <tr>\n",
              "      <th>...</th>\n",
              "      <td>...</td>\n",
              "      <td>...</td>\n",
              "    </tr>\n",
              "    <tr>\n",
              "      <th>19018</th>\n",
              "      <td>J7 Pro Cihazı Geldi Fakat Faturası Gelmedi!</td>\n",
              "      <td>0</td>\n",
              "    </tr>\n",
              "    <tr>\n",
              "      <th>19019</th>\n",
              "      <td>Müşteri Hizmetlerine Ulaşamama Sorunu!</td>\n",
              "      <td>0</td>\n",
              "    </tr>\n",
              "    <tr>\n",
              "      <th>19020</th>\n",
              "      <td>Para İadesi Sorunu!</td>\n",
              "      <td>0</td>\n",
              "    </tr>\n",
              "    <tr>\n",
              "      <th>19021</th>\n",
              "      <td>Mağdur Ediyor!</td>\n",
              "      <td>0</td>\n",
              "    </tr>\n",
              "    <tr>\n",
              "      <th>19022</th>\n",
              "      <td>Ürünü Aldığı Halde Parayı İade Etmedi!</td>\n",
              "      <td>0</td>\n",
              "    </tr>\n",
              "  </tbody>\n",
              "</table>\n",
              "<p>19023 rows × 2 columns</p>\n",
              "</div>\n",
              "      <button class=\"colab-df-convert\" onclick=\"convertToInteractive('df-d5076b9d-3065-4e66-9677-aa56ea936839')\"\n",
              "              title=\"Convert this dataframe to an interactive table.\"\n",
              "              style=\"display:none;\">\n",
              "        \n",
              "  <svg xmlns=\"http://www.w3.org/2000/svg\" height=\"24px\"viewBox=\"0 0 24 24\"\n",
              "       width=\"24px\">\n",
              "    <path d=\"M0 0h24v24H0V0z\" fill=\"none\"/>\n",
              "    <path d=\"M18.56 5.44l.94 2.06.94-2.06 2.06-.94-2.06-.94-.94-2.06-.94 2.06-2.06.94zm-11 1L8.5 8.5l.94-2.06 2.06-.94-2.06-.94L8.5 2.5l-.94 2.06-2.06.94zm10 10l.94 2.06.94-2.06 2.06-.94-2.06-.94-.94-2.06-.94 2.06-2.06.94z\"/><path d=\"M17.41 7.96l-1.37-1.37c-.4-.4-.92-.59-1.43-.59-.52 0-1.04.2-1.43.59L10.3 9.45l-7.72 7.72c-.78.78-.78 2.05 0 2.83L4 21.41c.39.39.9.59 1.41.59.51 0 1.02-.2 1.41-.59l7.78-7.78 2.81-2.81c.8-.78.8-2.07 0-2.86zM5.41 20L4 18.59l7.72-7.72 1.47 1.35L5.41 20z\"/>\n",
              "  </svg>\n",
              "      </button>\n",
              "      \n",
              "  <style>\n",
              "    .colab-df-container {\n",
              "      display:flex;\n",
              "      flex-wrap:wrap;\n",
              "      gap: 12px;\n",
              "    }\n",
              "\n",
              "    .colab-df-convert {\n",
              "      background-color: #E8F0FE;\n",
              "      border: none;\n",
              "      border-radius: 50%;\n",
              "      cursor: pointer;\n",
              "      display: none;\n",
              "      fill: #1967D2;\n",
              "      height: 32px;\n",
              "      padding: 0 0 0 0;\n",
              "      width: 32px;\n",
              "    }\n",
              "\n",
              "    .colab-df-convert:hover {\n",
              "      background-color: #E2EBFA;\n",
              "      box-shadow: 0px 1px 2px rgba(60, 64, 67, 0.3), 0px 1px 3px 1px rgba(60, 64, 67, 0.15);\n",
              "      fill: #174EA6;\n",
              "    }\n",
              "\n",
              "    [theme=dark] .colab-df-convert {\n",
              "      background-color: #3B4455;\n",
              "      fill: #D2E3FC;\n",
              "    }\n",
              "\n",
              "    [theme=dark] .colab-df-convert:hover {\n",
              "      background-color: #434B5C;\n",
              "      box-shadow: 0px 1px 3px 1px rgba(0, 0, 0, 0.15);\n",
              "      filter: drop-shadow(0px 1px 2px rgba(0, 0, 0, 0.3));\n",
              "      fill: #FFFFFF;\n",
              "    }\n",
              "  </style>\n",
              "\n",
              "      <script>\n",
              "        const buttonEl =\n",
              "          document.querySelector('#df-d5076b9d-3065-4e66-9677-aa56ea936839 button.colab-df-convert');\n",
              "        buttonEl.style.display =\n",
              "          google.colab.kernel.accessAllowed ? 'block' : 'none';\n",
              "\n",
              "        async function convertToInteractive(key) {\n",
              "          const element = document.querySelector('#df-d5076b9d-3065-4e66-9677-aa56ea936839');\n",
              "          const dataTable =\n",
              "            await google.colab.kernel.invokeFunction('convertToInteractive',\n",
              "                                                     [key], {});\n",
              "          if (!dataTable) return;\n",
              "\n",
              "          const docLinkHtml = 'Like what you see? Visit the ' +\n",
              "            '<a target=\"_blank\" href=https://colab.research.google.com/notebooks/data_table.ipynb>data table notebook</a>'\n",
              "            + ' to learn more about interactive tables.';\n",
              "          element.innerHTML = '';\n",
              "          dataTable['output_type'] = 'display_data';\n",
              "          await google.colab.output.renderOutput(dataTable, element);\n",
              "          const docLink = document.createElement('div');\n",
              "          docLink.innerHTML = docLinkHtml;\n",
              "          element.appendChild(docLink);\n",
              "        }\n",
              "      </script>\n",
              "    </div>\n",
              "  </div>\n",
              "  "
            ]
          },
          "metadata": {},
          "execution_count": 15
        }
      ],
      "source": [
        "dataset = pd.read_excel('sentiment_analysis.xlsx', sheet_name = 'Sheet1')\n",
        "dataset"
      ]
    },
    {
      "cell_type": "code",
      "execution_count": 16,
      "metadata": {
        "id": "zpT6Vk7gFM6B"
      },
      "outputs": [],
      "source": [
        "dataset['Text'] = dataset['Text'].apply(lambda x: re.sub('[,\\.!?:()\"]', '', x))\n",
        "dataset['Text'] = dataset['Text'].apply(lambda x: x.lower())\n",
        "dataset['Text'] = dataset['Text'].apply(lambda x: x.strip())\n",
        "kokbul = TurkishStemmer()\n",
        "\n",
        "\n",
        "def token(values):\n",
        "    words = nltk.tokenize.word_tokenize(values)\n",
        "    filtered_words = [word for word in words if word not in stop_word_list]\n",
        "    not_stopword_doc = \" \".join(filtered_words)\n",
        "    words2 = nltk.tokenize.word_tokenize(not_stopword_doc)\n",
        "    stems=[]\n",
        "    for w in words2:\n",
        "        stems.append(kokbul.stem(w))\n",
        "    return ' '.join(stems)\n",
        "    \n",
        "\n",
        "dataset['Text'] = dataset['Text'].apply(lambda x: token(x))"
      ]
    },
    {
      "cell_type": "code",
      "execution_count": 17,
      "metadata": {
        "colab": {
          "base_uri": "https://localhost:8080/"
        },
        "id": "GqsmkpfoFW48",
        "outputId": "d9e45ac7-df6d-442c-f0f3-f62738ce8b68"
      },
      "outputs": [
        {
          "output_type": "execute_result",
          "data": {
            "text/plain": [
              "0                ban bekledik cevap vermiyor\n",
              "1                sen istedik cevap bun değil\n",
              "2                    verdik yanıt doğr değil\n",
              "3             duymak istedik cevap bun değil\n",
              "4                            sen seviyor bro\n",
              "                        ...                 \n",
              "19018    j7 pro cihaz gelt fakat fatura gelm\n",
              "19019              müşter hizmet ulaşama sor\n",
              "19020                        par i̇adesi sor\n",
              "19021                          mağdur ediyor\n",
              "19022       ürün aldık halde para i̇ade etme\n",
              "Name: Text, Length: 19023, dtype: object"
            ]
          },
          "metadata": {},
          "execution_count": 17
        }
      ],
      "source": [
        "dataset['Text']"
      ]
    },
    {
      "cell_type": "code",
      "execution_count": 18,
      "metadata": {
        "id": "jlxdrklXFlhd"
      },
      "outputs": [],
      "source": [
        "data = dataset['Text'].values.tolist()\n",
        "sentiment = dataset['Sentiment'].values.tolist()"
      ]
    },
    {
      "cell_type": "code",
      "execution_count": 19,
      "metadata": {
        "id": "whRHJXv7Freu"
      },
      "outputs": [],
      "source": [
        "from sklearn.model_selection import train_test_split\n",
        "x_train, x_test, y_train, y_test = train_test_split(data,sentiment,test_size = 0.2, random_state = 42)"
      ]
    },
    {
      "cell_type": "code",
      "execution_count": 20,
      "metadata": {
        "colab": {
          "base_uri": "https://localhost:8080/",
          "height": 35
        },
        "id": "_uXs-wbnFvfq",
        "outputId": "22817d77-83c7-4da6-97fc-ad0327718cb2"
      },
      "outputs": [
        {
          "output_type": "execute_result",
          "data": {
            "text/plain": [
              "'fiya iyi süper'"
            ],
            "application/vnd.google.colaboratory.intrinsic+json": {
              "type": "string"
            }
          },
          "metadata": {},
          "execution_count": 20
        }
      ],
      "source": [
        "x_train[300]"
      ]
    },
    {
      "cell_type": "code",
      "execution_count": 21,
      "metadata": {
        "colab": {
          "base_uri": "https://localhost:8080/"
        },
        "id": "vWXY0QuaFxV5",
        "outputId": "49cac999-c0cb-414b-bba6-1561e6a776e5"
      },
      "outputs": [
        {
          "output_type": "execute_result",
          "data": {
            "text/plain": [
              "1"
            ]
          },
          "metadata": {},
          "execution_count": 21
        }
      ],
      "source": [
        "y_train[300]"
      ]
    },
    {
      "cell_type": "code",
      "execution_count": 22,
      "metadata": {
        "colab": {
          "base_uri": "https://localhost:8080/"
        },
        "id": "ZQpZUesfF0ME",
        "outputId": "501332e7-3191-4846-9504-34565b2b3455"
      },
      "outputs": [
        {
          "output_type": "execute_result",
          "data": {
            "text/plain": [
              "{'bir': 1,\n",
              " 'ürün': 2,\n",
              " 'iyi': 3,\n",
              " 'telefon': 4,\n",
              " 'güzel': 5,\n",
              " 'fiyat': 6,\n",
              " 'al': 7,\n",
              " 'tavsi': 8,\n",
              " 'eder': 9,\n",
              " 'gayet': 10,\n",
              " 'kalite': 11,\n",
              " 'hızl': 12,\n",
              " 'ben': 13,\n",
              " 'gün': 14,\n",
              " 'yok': 15,\n",
              " 'olarak': 16,\n",
              " 'teşekkür': 17,\n",
              " 'var': 18,\n",
              " 'olma': 19,\n",
              " 'gör': 20,\n",
              " 'kadar': 21,\n",
              " 'özellik': 22,\n",
              " 'kargo': 23,\n",
              " 'elim': 24,\n",
              " '2': 25,\n",
              " 'değil': 26,\n",
              " 'memnu': 27,\n",
              " 'şarj': 28,\n",
              " 'kullan': 29,\n",
              " 'kullanıyor': 30,\n",
              " 'uygun': 31,\n",
              " 'kullanış': 32,\n",
              " 'fiya': 33,\n",
              " 'iç': 34,\n",
              " 'sor': 35,\n",
              " 'performans': 36,\n",
              " 'biraz': 37,\n",
              " 'ses': 38,\n",
              " '1': 39,\n",
              " 'olduk': 40,\n",
              " 'cihaz': 41,\n",
              " 'hız': 42,\n",
              " 'yer': 43,\n",
              " 'gelt': 44,\n",
              " 'gerçek': 45,\n",
              " 'bun': 46,\n",
              " 'bi': 47,\n",
              " 'zaman': 48,\n",
              " 'tek': 49,\n",
              " 'olt': 50,\n",
              " '3': 51,\n",
              " 'sonr': 52,\n",
              " 'ekran': 53,\n",
              " 'cok': 54,\n",
              " 'sipariş': 55,\n",
              " 'arkadaş': 56,\n",
              " 'benç': 57,\n",
              " 'küçük': 58,\n",
              " 'olan': 59,\n",
              " 'kesinlik': 60,\n",
              " 'önç': 61,\n",
              " 'tam': 62,\n",
              " 'ulaş': 63,\n",
              " 'mükemmel': 64,\n",
              " 'ediyor': 65,\n",
              " 'marka': 66,\n",
              " 'fakat': 67,\n",
              " 'bilgisayar': 68,\n",
              " 'ols': 69,\n",
              " 'oldukç': 70,\n",
              " 'bil': 71,\n",
              " 'fazl': 72,\n",
              " 'ancak': 73,\n",
              " 'aldık': 74,\n",
              " 'alma': 75,\n",
              " 'başarı': 76,\n",
              " 'hepsibura': 77,\n",
              " 'şık': 78,\n",
              " 'uzun': 79,\n",
              " 'ev': 80,\n",
              " 'yan': 81,\n",
              " 'kolay': 82,\n",
              " 'süre': 83,\n",
              " 'aynı': 84,\n",
              " 'pil': 85,\n",
              " 'on': 86,\n",
              " 'ara': 87,\n",
              " 'ayrı': 88,\n",
              " 'iş': 89,\n",
              " 'kablo': 90,\n",
              " 'gerek': 91,\n",
              " 'diğer': 92,\n",
              " 'büyük': 93,\n",
              " 'ay': 94,\n",
              " 'kent': 95,\n",
              " 'el': 96,\n",
              " '5': 97,\n",
              " 'şekil': 98,\n",
              " 'süper': 99,\n",
              " 'siz': 100,\n",
              " 'soruns': 101,\n",
              " 'fark': 102,\n",
              " 'harika': 103,\n",
              " 'sık': 104,\n",
              " 'sade': 105,\n",
              " 'mouse': 106,\n",
              " 'kamera': 107,\n",
              " 'son': 108,\n",
              " 'kurul': 109,\n",
              " 'kulaklık': 110,\n",
              " 'zaten': 111,\n",
              " '4': 112,\n",
              " 'üzer': 113,\n",
              " 'rahat': 114,\n",
              " 'samsung': 115,\n",
              " 'internet': 116,\n",
              " 'usb': 117,\n",
              " 'ilk': 118,\n",
              " 'yeter': 119,\n",
              " '10': 120,\n",
              " 'herk': 121,\n",
              " 'para': 122,\n",
              " 'olur': 123,\n",
              " 'saat': 124,\n",
              " 'çalışıyor': 125,\n",
              " 'hemen': 126,\n",
              " 'ett': 127,\n",
              " 'dış': 128,\n",
              " 'gb': 129,\n",
              " 'kıs': 130,\n",
              " 'kötü': 131,\n",
              " 'başka': 132,\n",
              " 'bura': 133,\n",
              " 'haf': 134,\n",
              " 'oluyor': 135,\n",
              " 'ik': 136,\n",
              " 'uç': 137,\n",
              " 'der': 138,\n",
              " 'üst': 139,\n",
              " 'yen': 140,\n",
              " 'kalt': 141,\n",
              " 'yıl': 142,\n",
              " 'yaklaşık': 143,\n",
              " 'sağla': 144,\n",
              " 'vert': 145,\n",
              " 'rağmen': 146,\n",
              " 'gönder': 147,\n",
              " 'çıkt': 148,\n",
              " 'zor': 149,\n",
              " 'ban': 150,\n",
              " 'konu': 151,\n",
              " 'ideal': 152,\n",
              " 'modem': 153,\n",
              " 'alacak': 154,\n",
              " 'almak': 155,\n",
              " 'kartuş': 156,\n",
              " 'çek': 157,\n",
              " 'an': 158,\n",
              " 'ur': 159,\n",
              " 'yorum': 160,\n",
              " 'tesl': 161,\n",
              " 'kart': 162,\n",
              " 'tuş': 163,\n",
              " 'beğen': 164,\n",
              " 'problem': 165,\n",
              " 'oyun': 166,\n",
              " 'kullanma': 167,\n",
              " 'etme': 168,\n",
              " 'tasar': 169,\n",
              " 'batarya': 170,\n",
              " 'tercih': 171,\n",
              " 'alt': 172,\n",
              " 'geliyor': 173,\n",
              " 'laptop': 174,\n",
              " 'par': 175,\n",
              " 'normal': 176,\n",
              " 'çanta': 177,\n",
              " 'malzeme': 178,\n",
              " 'sür': 179,\n",
              " 'tane': 180,\n",
              " 'mi': 181,\n",
              " 'geçt': 182,\n",
              " 'hafif': 183,\n",
              " 'veriyor': 184,\n",
              " 'almış': 185,\n",
              " 'yük': 186,\n",
              " 'kullandık': 187,\n",
              " 'rahatlık': 188,\n",
              " 'kali': 189,\n",
              " 'hizmet': 190,\n",
              " 'geç': 191,\n",
              " 'ihtiyaç': 192,\n",
              " 'gidiyor': 193,\n",
              " 'dokunmatik': 194,\n",
              " 'telefo': 195,\n",
              " 'yüz': 196,\n",
              " 'numara': 197,\n",
              " 'hoş': 198,\n",
              " 'kutu': 199,\n",
              " 'böyl': 200,\n",
              " 'yapıyor': 201,\n",
              " 'ssd': 202,\n",
              " 'alan': 203,\n",
              " 'yin': 204,\n",
              " 'teslimat': 205,\n",
              " 'ar': 206,\n",
              " 'yazıç': 207,\n",
              " 'piyasa': 208,\n",
              " 'ışık': 209,\n",
              " 'model': 210,\n",
              " '6': 211,\n",
              " 'hepsiburadacom': 212,\n",
              " 'bellek': 213,\n",
              " 'ufak': 214,\n",
              " 'verdik': 215,\n",
              " 'sonuç': 216,\n",
              " 'güç': 217,\n",
              " 'hedi': 218,\n",
              " 'alabilir': 219,\n",
              " 'sahip': 220,\n",
              " 'guzel': 221,\n",
              " 'kullanmak': 222,\n",
              " 'kablos': 223,\n",
              " 'ver': 224,\n",
              " 'gelen': 225,\n",
              " 'yaşa': 226,\n",
              " 'açıs': 227,\n",
              " 'sen': 228,\n",
              " 'pişman': 229,\n",
              " 'göz': 230,\n",
              " 'alışveriş': 231,\n",
              " 'esk': 232,\n",
              " 'renk': 233,\n",
              " 'taraf': 234,\n",
              " 'site': 235,\n",
              " 'bekledik': 236,\n",
              " 'orjinal': 237,\n",
              " 'müzik': 238,\n",
              " 'yor': 239,\n",
              " 'dur': 240,\n",
              " 'düşünme': 241,\n",
              " 'boyut': 242,\n",
              " 'anahtarlık': 243,\n",
              " 'cep': 244,\n",
              " 'uygulama': 245,\n",
              " 'iphone': 246,\n",
              " 'olabilir': 247,\n",
              " 'düşünüyor': 248,\n",
              " 'görüntü': 249,\n",
              " 'fotoğraf': 250,\n",
              " 'alınabilecek': 251,\n",
              " 'pek': 252,\n",
              " 'araç': 253,\n",
              " 'kulak': 254,\n",
              " 'basit': 255,\n",
              " '8': 256,\n",
              " 'yapma': 257,\n",
              " 'firma': 258,\n",
              " 'hal': 259,\n",
              " '15': 260,\n",
              " 'derece': 261,\n",
              " 'isteyen': 262,\n",
              " 'garanti': 263,\n",
              " 'düşük': 264,\n",
              " 'wifi': 265,\n",
              " 'hiçbir': 266,\n",
              " 'indir': 267,\n",
              " 'eksik': 268,\n",
              " 'hafız': 269,\n",
              " 'disk': 270,\n",
              " 'fazla': 271,\n",
              " 'diyebilir': 272,\n",
              " 'hizl': 273,\n",
              " 'baş': 274,\n",
              " 'sürek': 275,\n",
              " 'dene': 276,\n",
              " 'alal': 277,\n",
              " 'bi̇r': 278,\n",
              " 'önem': 279,\n",
              " 'kat': 280,\n",
              " 'olacak': 281,\n",
              " 'etmiyor': 282,\n",
              " 'avantaj': 283,\n",
              " 'yazm': 284,\n",
              " 'kılıf': 285,\n",
              " 'genel': 286,\n",
              " 'çabuk': 287,\n",
              " 'plastik': 288,\n",
              " 'bask': 289,\n",
              " 'duruyor': 290,\n",
              " 'i': 291,\n",
              " 'yapt': 292,\n",
              " 'alıyor': 293,\n",
              " 'öncelik': 294,\n",
              " 'fena': 295,\n",
              " 'hariç': 296,\n",
              " 'yap': 297,\n",
              " 'ol': 298,\n",
              " 'adet': 299,\n",
              " '20': 300,\n",
              " 'aldim': 301,\n",
              " 'or': 302,\n",
              " 'diyor': 303,\n",
              " 'dola': 304,\n",
              " 'araba': 305,\n",
              " 'video': 306,\n",
              " 'nokia': 307,\n",
              " 'çekiyor': 308,\n",
              " 'karş': 309,\n",
              " 'hepsiburada': 310,\n",
              " 'başl': 311,\n",
              " 'dan': 312,\n",
              " 'orta': 313,\n",
              " 'aktar': 314,\n",
              " 'hem': 315,\n",
              " 'net': 316,\n",
              " 'bağlan': 317,\n",
              " 'ince': 318,\n",
              " 'hb': 319,\n",
              " 'tekrar': 320,\n",
              " 'yön': 321,\n",
              " 'takt': 322,\n",
              " 'git': 323,\n",
              " 'ağır': 324,\n",
              " 'parmak': 325,\n",
              " 'i̇ade': 326,\n",
              " 'yavaş': 327,\n",
              " 'beklenti': 328,\n",
              " 'değer': 329,\n",
              " 'ön': 330,\n",
              " '7': 331,\n",
              " 'sarj': 332,\n",
              " 'ayar': 333,\n",
              " 'ömr': 334,\n",
              " 'vs': 335,\n",
              " 'istedik': 336,\n",
              " 'ayr': 337,\n",
              " 'herhangi': 338,\n",
              " 'sıkıntı': 339,\n",
              " 'bez': 340,\n",
              " '30': 341,\n",
              " 'şuan': 342,\n",
              " 'a': 343,\n",
              " 'metal': 344,\n",
              " 'doğr': 345,\n",
              " 'gerekiyor': 346,\n",
              " '16': 347,\n",
              " 'sanır': 348,\n",
              " 'olmaz': 349,\n",
              " 'okum': 350,\n",
              " 'şimt': 351,\n",
              " 'sat': 352,\n",
              " 'paha': 353,\n",
              " 'sess': 354,\n",
              " 'degil': 355,\n",
              " 'e': 356,\n",
              " 'birlik': 357,\n",
              " 'pc': 358,\n",
              " 'seviye': 359,\n",
              " 'sebep': 360,\n",
              " 'erte': 361,\n",
              " 'içeri': 362,\n",
              " 'lazım': 363,\n",
              " 'kısm': 364,\n",
              " 'ker': 365,\n",
              " 'su': 366,\n",
              " 'ye': 367,\n",
              " 'tereddüt': 368,\n",
              " 'siyah': 369,\n",
              " 'saye': 370,\n",
              " 'ediç': 371,\n",
              " 'progra': 372,\n",
              " 'tabi': 373,\n",
              " 'falan': 374,\n",
              " 'siste': 375,\n",
              " 'çıkıyor': 376,\n",
              " 'öyl': 377,\n",
              " 'ad': 378,\n",
              " 'tatmi': 379,\n",
              " 'oran': 380,\n",
              " 'fare': 381,\n",
              " 'bell': 382,\n",
              " 'hakk': 383,\n",
              " 'bugü': 384,\n",
              " 'alet': 385,\n",
              " 'hat': 386,\n",
              " 'insan': 387,\n",
              " 'karar': 388,\n",
              " 'gört': 389,\n",
              " 'düşünen': 390,\n",
              " 'kapak': 391,\n",
              " 'alırken': 392,\n",
              " 'devam': 393,\n",
              " 'boyu': 394,\n",
              " 'kullanan': 395,\n",
              " 'müşter': 396,\n",
              " 'güven': 397,\n",
              " 'mause': 398,\n",
              " 'yaptık': 399,\n",
              " 'den': 400,\n",
              " 'olmama': 401,\n",
              " 'sandisk': 402,\n",
              " 'dikkat': 403,\n",
              " 'logitech': 404,\n",
              " 'hp': 405,\n",
              " 'kampanya': 406,\n",
              " 'yak': 407,\n",
              " 'tl': 408,\n",
              " 'giriş': 409,\n",
              " 'dakika': 410,\n",
              " 'ba': 411,\n",
              " 'yazıl': 412,\n",
              " 'oturuyor': 413,\n",
              " 'dert': 414,\n",
              " 'olsa': 415,\n",
              " 'i̇lk': 416,\n",
              " 'mesaj': 417,\n",
              " 'pratik': 418,\n",
              " 'olmadık': 419,\n",
              " 'sn': 420,\n",
              " 'paket': 421,\n",
              " 'verme': 422,\n",
              " 'gönül': 423,\n",
              " 'görüyor': 424,\n",
              " 'uygula': 425,\n",
              " 'ya': 426,\n",
              " 'günlük': 427,\n",
              " 'yoks': 428,\n",
              " 'çalış': 429,\n",
              " 'toner': 430,\n",
              " 'hesap': 431,\n",
              " 'bekliyor': 432,\n",
              " 'önce': 433,\n",
              " 'ilgi': 434,\n",
              " 'anla': 435,\n",
              " 'uzak': 436,\n",
              " 'dosya': 437,\n",
              " 'alır': 438,\n",
              " 'iz': 439,\n",
              " 'kut': 440,\n",
              " 'note': 441,\n",
              " 'kaç': 442,\n",
              " 'yapı': 443,\n",
              " 'test': 444,\n",
              " 'kibar': 445,\n",
              " 'işle': 446,\n",
              " 'biri': 447,\n",
              " 'edil': 448,\n",
              " 'yıldız': 449,\n",
              " 'ettik': 450,\n",
              " 'şey': 451,\n",
              " 'sabah': 452,\n",
              " 'geldik': 453,\n",
              " 'koku': 454,\n",
              " 'ark': 455,\n",
              " 'bütün': 456,\n",
              " 'edilir': 457,\n",
              " 'oldug': 458,\n",
              " 'çıkan': 459,\n",
              " 'alıp': 460,\n",
              " 'olmayan': 461,\n",
              " 'tak': 462,\n",
              " 'neden': 463,\n",
              " 'flash': 464,\n",
              " 'dol': 465,\n",
              " 'uyk': 466,\n",
              " 'istiyor': 467,\n",
              " 'çocuk': 468,\n",
              " 'kalites': 469,\n",
              " 'ger': 470,\n",
              " 'görür': 471,\n",
              " 'kullanıcı': 472,\n",
              " 'res': 473,\n",
              " 'mb': 474,\n",
              " 'çıkar': 475,\n",
              " 'boş': 476,\n",
              " '32': 477,\n",
              " 'orijinal': 478,\n",
              " 'şimdilik': 479,\n",
              " 'çok': 480,\n",
              " 'hdd': 481,\n",
              " 'saniye': 482,\n",
              " 'destek': 483,\n",
              " 'mesafe': 484,\n",
              " 'kapa': 485,\n",
              " 'et': 486,\n",
              " 'rahats': 487,\n",
              " 'bağlantı': 488,\n",
              " 'parça': 489,\n",
              " 'ergonomik': 490,\n",
              " 'olmuyor': 491,\n",
              " 'gelme': 492,\n",
              " 'nere': 493,\n",
              " 'şiddet': 494,\n",
              " 'tavsiye': 495,\n",
              " 'sorun': 496,\n",
              " 'bazen': 497,\n",
              " 'uyum': 498,\n",
              " 'sinyal': 499,\n",
              " 'takip': 500,\n",
              " 'mah': 501,\n",
              " 'kaçırmay': 502,\n",
              " 'önerir': 503,\n",
              " 'bilmiyor': 504,\n",
              " 'fatura': 505,\n",
              " 'bilgi': 506,\n",
              " 'prima': 507,\n",
              " 'mağaza': 508,\n",
              " 'yol': 509,\n",
              " 'film': 510,\n",
              " 'gun': 511,\n",
              " 'kap': 512,\n",
              " 'kalm': 513,\n",
              " 'i̇yi': 514,\n",
              " 'olums': 515,\n",
              " 'alınabilir': 516,\n",
              " 'ucuz': 517,\n",
              " 'kişi': 518,\n",
              " 'açık': 519,\n",
              " 'kalıyor': 520,\n",
              " 'iade': 521,\n",
              " 'söz': 522,\n",
              " 'akşa': 523,\n",
              " 'eksi': 524,\n",
              " 'windows': 525,\n",
              " 'etmek': 526,\n",
              " 'geli': 527,\n",
              " 'ister': 528,\n",
              " 'mevcut': 529,\n",
              " 'art': 530,\n",
              " 'gere': 531,\n",
              " 'ne': 532,\n",
              " 'türl': 533,\n",
              " 'tavsi̇ye': 534,\n",
              " 'fi': 535,\n",
              " 'kargom': 536,\n",
              " 'yapmıyor': 537,\n",
              " 'arka': 538,\n",
              " 'idare': 539,\n",
              " 'ram': 540,\n",
              " 'açılış': 541,\n",
              " 'dahi': 542,\n",
              " 'full': 543,\n",
              " 'yi': 544,\n",
              " 'araştır': 545,\n",
              " 'oda': 546,\n",
              " 'halde': 547,\n",
              " 'kol': 548,\n",
              " 'kal': 549,\n",
              " 'artı': 550,\n",
              " 'bluetooth': 551,\n",
              " 'makine': 552,\n",
              " 'dün': 553,\n",
              " 'henüz': 554,\n",
              " 'urun': 555,\n",
              " 'umar': 556,\n",
              " 'paketle': 557,\n",
              " 'gelir': 558,\n",
              " 'yazıyor': 559,\n",
              " 'kapasite': 560,\n",
              " 'şimdi': 561,\n",
              " 'düğme': 562,\n",
              " 'görm': 563,\n",
              " 'yapıl': 564,\n",
              " 'satıcı': 565,\n",
              " 'android': 566,\n",
              " 'zayıf': 567,\n",
              " 'kok': 568,\n",
              " 'keşk': 569,\n",
              " 'akıl': 570,\n",
              " 'kağıt': 571,\n",
              " 'teknoloji': 572,\n",
              " 'dayanık': 573,\n",
              " 'kas': 574,\n",
              " 'donm': 575,\n",
              " 'asus': 576,\n",
              " 'dedik': 577,\n",
              " 'yar': 578,\n",
              " 'iste': 579,\n",
              " 'ayak': 580,\n",
              " 'saatte': 581,\n",
              " 'bult': 582,\n",
              " 'tesekkurler': 583,\n",
              " 'gercek': 584,\n",
              " '24': 585,\n",
              " 'üstelik': 586,\n",
              " 'herşey': 587,\n",
              " 'ekip': 588,\n",
              " '100': 589,\n",
              " 'reng': 590,\n",
              " 'işim': 591,\n",
              " 'i̇yi̇': 592,\n",
              " 'yazıcı': 593,\n",
              " 'wi': 594,\n",
              " 'ücret': 595,\n",
              " 'hareket': 596,\n",
              " 'ederi̇m': 597,\n",
              " 'kendi': 598,\n",
              " 'kullaniyor': 599,\n",
              " 'tamamen': 600,\n",
              " 'adaptör': 601,\n",
              " 'sağlıyor': 602,\n",
              " 'yüzey': 603,\n",
              " 'inanılmaz': 604,\n",
              " 'bişey': 605,\n",
              " 'p': 606,\n",
              " 'bileklik': 607,\n",
              " 'servis': 608,\n",
              " 'birçok': 609,\n",
              " 'beraber': 610,\n",
              " 'kasa': 611,\n",
              " 'gps': 612,\n",
              " 'biz': 613,\n",
              " 'sa': 614,\n",
              " 'veril': 615,\n",
              " 'yaln': 616,\n",
              " 'si': 617,\n",
              " 'bur': 618,\n",
              " 'beyaz': 619,\n",
              " 'gore': 620,\n",
              " 'arkadas': 621,\n",
              " 'bakım': 622,\n",
              " 'edebilir': 623,\n",
              " 'öncek': 624,\n",
              " 'masa': 625,\n",
              " 'gelm': 626,\n",
              " 'bakarak': 627,\n",
              " 'aşır': 628,\n",
              " 'civar': 629,\n",
              " 'o': 630,\n",
              " 'diş': 631,\n",
              " 'sonra': 632,\n",
              " 'ortala': 633,\n",
              " 'çift': 634,\n",
              " 'hassas': 635,\n",
              " 'çalışma': 636,\n",
              " 'hak': 637,\n",
              " '25': 638,\n",
              " 'kolaylık': 639,\n",
              " 'hayır': 640,\n",
              " 'beklemey': 641,\n",
              " 'cam': 642,\n",
              " 'makina': 643,\n",
              " 'mutlak': 644,\n",
              " 'i̇adesi': 645,\n",
              " 'notebook': 646,\n",
              " 'satıç': 647,\n",
              " 'fiyatı': 648,\n",
              " 'fayda': 649,\n",
              " 'titreş': 650,\n",
              " 'aparat': 651,\n",
              " 'det': 652,\n",
              " 'görünüyor': 653,\n",
              " 'program': 654,\n",
              " 'açılıyor': 655,\n",
              " 'sıfır': 656,\n",
              " 'güvenilir': 657,\n",
              " 'makul': 658,\n",
              " 'dk': 659,\n",
              " 'yapmak': 660,\n",
              " 'karşılıyor': 661,\n",
              " 'diyen': 662,\n",
              " 'seri': 663,\n",
              " 'f': 664,\n",
              " 'eşim': 665,\n",
              " 'sani': 666,\n",
              " 'ler': 667,\n",
              " 'i̇çi̇n': 668,\n",
              " 'banka': 669,\n",
              " 'edecek': 670,\n",
              " 'hic': 671,\n",
              " 'eks': 672,\n",
              " 'çıkm': 673,\n",
              " 'hayal': 674,\n",
              " 'kurt': 675,\n",
              " 'geçen': 676,\n",
              " 'hale': 677,\n",
              " 'interne': 678,\n",
              " 'geniş': 679,\n",
              " 'takıl': 680,\n",
              " 'görecek': 681,\n",
              " 'mot': 682,\n",
              " 'kullanabilir': 683,\n",
              " 'es': 684,\n",
              " 'can': 685,\n",
              " 'ber': 686,\n",
              " 'zarif': 687,\n",
              " 'ısın': 688,\n",
              " 'sene': 689,\n",
              " 'kafa': 690,\n",
              " 'elin': 691,\n",
              " 'muhteşe': 692,\n",
              " 'seçenek': 693,\n",
              " 'ağırlık': 694,\n",
              " 'görünüş': 695,\n",
              " 'xiaomi': 696,\n",
              " 'beklent': 697,\n",
              " 'siker': 698,\n",
              " 'sert': 699,\n",
              " 'herkes': 700,\n",
              " 'arıyor': 701,\n",
              " 'standart': 702,\n",
              " 'tv': 703,\n",
              " 'oluş': 704,\n",
              " 'olay': 705,\n",
              " 'merhap': 706,\n",
              " 'bağl': 707,\n",
              " 'nokta': 708,\n",
              " 'etki': 709,\n",
              " 'yaz': 710,\n",
              " 'amaç': 711,\n",
              " 'tel': 712,\n",
              " 'alış': 713,\n",
              " 'evet': 714,\n",
              " 'burada': 715,\n",
              " 'mümk': 716,\n",
              " '12': 717,\n",
              " 'takı': 718,\n",
              " 'bır': 719,\n",
              " 'cevap': 720,\n",
              " 'çalışan': 721,\n",
              " 'bak': 722,\n",
              " 'taş': 723,\n",
              " 'ekstra': 724,\n",
              " 'direk': 725,\n",
              " 'tarih': 726,\n",
              " 'yapan': 727,\n",
              " 'ekonomik': 728,\n",
              " 'menü': 729,\n",
              " 's': 730,\n",
              " 'am': 731,\n",
              " 'görü': 732,\n",
              " 'fatur': 733,\n",
              " 'gider': 734,\n",
              " 'tarz': 735,\n",
              " 'boy': 736,\n",
              " 'olmak': 737,\n",
              " 'oğl': 738,\n",
              " 'yeni': 739,\n",
              " 'kullanıç': 740,\n",
              " 'it': 741,\n",
              " 'kullanacak': 742,\n",
              " 'tıkla': 743,\n",
              " 'priz': 744,\n",
              " 'kopm': 745,\n",
              " 'açıl': 746,\n",
              " 'karşılaş': 747,\n",
              " 'içerik': 748,\n",
              " 'koruyuç': 749,\n",
              " 'fırsat': 750,\n",
              " 'bebek': 751,\n",
              " 'kulla': 752,\n",
              " 'mikrofon': 753,\n",
              " 'kingston': 754,\n",
              " 'harddisk': 755,\n",
              " 'nin': 756,\n",
              " 'sol': 757,\n",
              " 'ücrets': 758,\n",
              " 'ofis': 759,\n",
              " 'çıkarıyor': 760,\n",
              " 'düş': 761,\n",
              " 'bildik': 762,\n",
              " 'olu': 763,\n",
              " 'mutl': 764,\n",
              " 'bas': 765,\n",
              " 'demek': 766,\n",
              " 'türki': 767,\n",
              " 'arama': 768,\n",
              " 'bu': 769,\n",
              " 'maus': 770,\n",
              " 'üç': 771,\n",
              " 'çıkış': 772,\n",
              " 'kır': 773,\n",
              " 'yine': 774,\n",
              " 'alabilecek': 775,\n",
              " 'vb': 776,\n",
              " 'ebat': 777,\n",
              " 'mode': 778,\n",
              " 'vermiyor': 779,\n",
              " 'indirim': 780,\n",
              " 'kes': 781,\n",
              " 'anç': 782,\n",
              " 'yapar': 783,\n",
              " 'işin': 784,\n",
              " 'resmen': 785,\n",
              " 'şekl': 786,\n",
              " 'alınacak': 787,\n",
              " 'sik': 788,\n",
              " 'taktık': 789,\n",
              " 'lazer': 790,\n",
              " 'yanlış': 791,\n",
              " 'düzg': 792,\n",
              " 'duvar': 793,\n",
              " 'sak': 794,\n",
              " 'otur': 795,\n",
              " 'bedav': 796,\n",
              " 'hediye': 797,\n",
              " 'düzey': 798,\n",
              " 'olmasi': 799,\n",
              " 'müthiş': 800,\n",
              " 'arayan': 801,\n",
              " '5800': 802,\n",
              " 'kitap': 803,\n",
              " 'yaparken': 804,\n",
              " 'akl': 805,\n",
              " 'sıra': 806,\n",
              " 'yeters': 807,\n",
              " 'kot': 808,\n",
              " 'aktif': 809,\n",
              " 'kullanım': 810,\n",
              " 'çekim': 811,\n",
              " 'sefer': 812,\n",
              " 'hiz': 813,\n",
              " 'tem': 814,\n",
              " 'hiss': 815,\n",
              " 'puan': 816,\n",
              " 'kalem': 817,\n",
              " 'nap': 818,\n",
              " 'in': 819,\n",
              " 'sağlık': 820,\n",
              " 'gelecek': 821,\n",
              " 'hata': 822,\n",
              " 'bulmak': 823,\n",
              " '9': 824,\n",
              " 'sure': 825,\n",
              " '50': 826,\n",
              " 'lg': 827,\n",
              " 'kullanırken': 828,\n",
              " 'gösteriyor': 829,\n",
              " 'hızlan': 830,\n",
              " 'fonksiyon': 831,\n",
              " 'versiyon': 832,\n",
              " 'kardeş': 833,\n",
              " 'kullanır': 834,\n",
              " 'ek': 835,\n",
              " 'veren': 836,\n",
              " 'gerekir': 837,\n",
              " 'düşt': 838,\n",
              " 'takıp': 839,\n",
              " 'yokt': 840,\n",
              " 'otomatik': 841,\n",
              " 'aralık': 842,\n",
              " 'olum': 843,\n",
              " 'söyleyebilir': 844,\n",
              " 'geçiş': 845,\n",
              " 'görün': 846,\n",
              " 'açıkça': 847,\n",
              " 'kırıklık': 848,\n",
              " 'hayat': 849,\n",
              " 'şirket': 850,\n",
              " 'kelime': 851,\n",
              " 'sistem': 852,\n",
              " 'ner': 853,\n",
              " 'şans': 854,\n",
              " 'fay': 855,\n",
              " 'güncelle': 856,\n",
              " 'saati': 857,\n",
              " 'un': 858,\n",
              " 'teyp': 859,\n",
              " 'şart': 860,\n",
              " 'gördük': 861,\n",
              " 'eski': 862,\n",
              " 'asl': 863,\n",
              " 'bozul': 864,\n",
              " 'spor': 865,\n",
              " 'sürüyor': 866,\n",
              " 'kullanabiliyor': 867,\n",
              " 'büyüklük': 868,\n",
              " 'dpi': 869,\n",
              " 'parfüm': 870,\n",
              " 'biliyor': 871,\n",
              " 'sayı': 872,\n",
              " 'güçl': 873,\n",
              " 'herşe': 874,\n",
              " 'lik': 875,\n",
              " 'hafta': 876,\n",
              " 'veri': 877,\n",
              " 'dizüs': 878,\n",
              " 'malesef': 879,\n",
              " 'mal': 880,\n",
              " 'yükl': 881,\n",
              " 'yazı': 882,\n",
              " 'almay': 883,\n",
              " 'gereks': 884,\n",
              " 'çöp': 885,\n",
              " 'yapacak': 886,\n",
              " 'dahil': 887,\n",
              " 'tık': 888,\n",
              " 'satış': 889,\n",
              " 'tabik': 890,\n",
              " 'aile': 891,\n",
              " 'arayüz': 892,\n",
              " 'apple': 893,\n",
              " 'anan': 894,\n",
              " 'bilek': 895,\n",
              " 'dezavantaj': 896,\n",
              " 'hızı': 897,\n",
              " 'şube': 898,\n",
              " 'hangi': 899,\n",
              " 'verip': 900,\n",
              " 'aradık': 901,\n",
              " '5000': 902,\n",
              " 'segment': 903,\n",
              " 'kasm': 904,\n",
              " 'kontrol': 905,\n",
              " 'ambalaj': 906,\n",
              " 'ta': 907,\n",
              " 'tşk': 908,\n",
              " 'com': 909,\n",
              " 'tablet': 910,\n",
              " 'değiş': 911,\n",
              " 'yardımç': 912,\n",
              " 'ha': 913,\n",
              " 'konuş': 914,\n",
              " 'heps': 915,\n",
              " 'diyecek': 916,\n",
              " 'çöz': 917,\n",
              " 'kusur': 918,\n",
              " 'kalır': 919,\n",
              " 'd': 920,\n",
              " 'mukemmel': 921,\n",
              " 'olup': 922,\n",
              " 'ayrica': 923,\n",
              " 'azın': 924,\n",
              " 'kısa': 925,\n",
              " 'sayf': 926,\n",
              " 'anten': 927,\n",
              " 'benzer': 928,\n",
              " 'bilir': 929,\n",
              " 'ikinç': 930,\n",
              " 'işler': 931,\n",
              " 'önün': 932,\n",
              " 'tan': 933,\n",
              " 'lira': 934,\n",
              " 'hafıza': 935,\n",
              " 'kel': 936,\n",
              " 'cum': 937,\n",
              " 'işlemç': 938,\n",
              " 'lar': 939,\n",
              " 'mavi': 940,\n",
              " 'bitiyor': 941,\n",
              " 'kısaca': 942,\n",
              " 'sınıf': 943,\n",
              " 'berbat': 944,\n",
              " 'türkç': 945,\n",
              " 'toshiba': 946,\n",
              " 'çalışmıyor': 947,\n",
              " 'çin': 948,\n",
              " 'diger': 949,\n",
              " 'alınır': 950,\n",
              " 'yarı': 951,\n",
              " 'sayfa': 952,\n",
              " 'kon': 953,\n",
              " 'alaka': 954,\n",
              " 'ser': 955,\n",
              " 'sd': 956,\n",
              " 'ozellik': 957,\n",
              " 'ıy': 958,\n",
              " 'işlev': 959,\n",
              " 'kurulum': 960,\n",
              " 'merak': 961,\n",
              " 'beklen': 962,\n",
              " 'kullanılabilir': 963,\n",
              " 'görüş': 964,\n",
              " 'i̇ki': 965,\n",
              " 'once': 966,\n",
              " 'masaüs': 967,\n",
              " 'sağlamlık': 968,\n",
              " 'doldur': 969,\n",
              " 'yıllık': 970,\n",
              " 'verilen': 971,\n",
              " 'iler': 972,\n",
              " 'yaşıyor': 973,\n",
              " 'turkcell': 974,\n",
              " 'dikkatli': 975,\n",
              " 'değiştir': 976,\n",
              " 'market': 977,\n",
              " 'güncelleme': 978,\n",
              " 'özen': 979,\n",
              " 'çözünürlük': 980,\n",
              " 'mantık': 981,\n",
              " 'bildir': 982,\n",
              " 'kaldık': 983,\n",
              " 'alarm': 984,\n",
              " 'sesl': 985,\n",
              " 'herhalde': 986,\n",
              " 'gel': 987,\n",
              " 'klavye': 988,\n",
              " 'ücre': 989,\n",
              " 'anlam': 990,\n",
              " 'kenar': 991,\n",
              " 'şun': 992,\n",
              " 'onlar': 993,\n",
              " 'düşüyor': 994,\n",
              " 'tasarruf': 995,\n",
              " 'stabil': 996,\n",
              " 'zarar': 997,\n",
              " 'tebrik': 998,\n",
              " 'kız': 999,\n",
              " 'dünya': 1000,\n",
              " ...}"
            ]
          },
          "metadata": {},
          "execution_count": 22
        }
      ],
      "source": [
        "tokenizer = Tokenizer(num_words = 10000)\n",
        "tokenizer.fit_on_texts(data)\n",
        "tokenizer.word_index"
      ]
    },
    {
      "cell_type": "code",
      "execution_count": 23,
      "metadata": {
        "id": "0yB9bEHsF6sd"
      },
      "outputs": [],
      "source": [
        "\n",
        "x_train_tokens = tokenizer.texts_to_sequences(x_train)\n",
        "x_test_tokens = tokenizer.texts_to_sequences(x_test)"
      ]
    },
    {
      "cell_type": "code",
      "execution_count": 24,
      "metadata": {
        "colab": {
          "base_uri": "https://localhost:8080/"
        },
        "id": "4SpQELybF-ui",
        "outputId": "351a2d7f-7045-4fd1-ca23-5e4a9b8960b6"
      },
      "outputs": [
        {
          "output_type": "execute_result",
          "data": {
            "text/plain": [
              "[33, 3, 99]"
            ]
          },
          "metadata": {},
          "execution_count": 24
        }
      ],
      "source": [
        "x_train_tokens[300]"
      ]
    },
    {
      "cell_type": "code",
      "execution_count": 25,
      "metadata": {
        "colab": {
          "base_uri": "https://localhost:8080/",
          "height": 35
        },
        "id": "5UJTOgKkGAsQ",
        "outputId": "0b180869-030f-4175-afc1-a041481104be"
      },
      "outputs": [
        {
          "output_type": "execute_result",
          "data": {
            "text/plain": [
              "'fiya iyi süper'"
            ],
            "application/vnd.google.colaboratory.intrinsic+json": {
              "type": "string"
            }
          },
          "metadata": {},
          "execution_count": 25
        }
      ],
      "source": [
        "x_train[300]"
      ]
    },
    {
      "cell_type": "code",
      "execution_count": 26,
      "metadata": {
        "id": "MtGNg3BVGAvg"
      },
      "outputs": [],
      "source": [
        "\n",
        "num_tokens = [len(tokens) for tokens in x_train_tokens + x_test_tokens]\n",
        "num_tokens = np.array(num_tokens)"
      ]
    },
    {
      "cell_type": "code",
      "execution_count": 27,
      "metadata": {
        "colab": {
          "base_uri": "https://localhost:8080/"
        },
        "id": "d2gFjuUrGGLG",
        "outputId": "2bf24346-d523-4162-916c-653469cd08cc"
      },
      "outputs": [
        {
          "output_type": "execute_result",
          "data": {
            "text/plain": [
              "17.820533038952846"
            ]
          },
          "metadata": {},
          "execution_count": 27
        }
      ],
      "source": [
        "np.mean(num_tokens)"
      ]
    },
    {
      "cell_type": "code",
      "execution_count": 28,
      "metadata": {
        "colab": {
          "base_uri": "https://localhost:8080/"
        },
        "id": "vpldhigLGGRM",
        "outputId": "c6f4be7a-fd95-4ba7-dee7-ac91e51ebe31"
      },
      "outputs": [
        {
          "output_type": "execute_result",
          "data": {
            "text/plain": [
              "250"
            ]
          },
          "metadata": {},
          "execution_count": 28
        }
      ],
      "source": [
        "np.max(num_tokens)"
      ]
    },
    {
      "cell_type": "code",
      "execution_count": 29,
      "metadata": {
        "colab": {
          "base_uri": "https://localhost:8080/"
        },
        "id": "vDPp41o7GGUN",
        "outputId": "a87b3a53-db34-409b-b7ce-dafbe97e2ddd"
      },
      "outputs": [
        {
          "output_type": "execute_result",
          "data": {
            "text/plain": [
              "57"
            ]
          },
          "metadata": {},
          "execution_count": 29
        }
      ],
      "source": [
        "\n",
        "max_tokens = np.mean(num_tokens) + 2 * np.std(num_tokens)\n",
        "max_tokens = int(max_tokens)\n",
        "max_tokens"
      ]
    },
    {
      "cell_type": "code",
      "execution_count": 30,
      "metadata": {
        "colab": {
          "base_uri": "https://localhost:8080/"
        },
        "id": "pRU3toUGGGYZ",
        "outputId": "816a7432-4755-40d4-e59f-0c93d9c6e25a"
      },
      "outputs": [
        {
          "output_type": "execute_result",
          "data": {
            "text/plain": [
              "0.9604163381170162"
            ]
          },
          "metadata": {},
          "execution_count": 30
        }
      ],
      "source": [
        "\n",
        "np.sum(num_tokens < max_tokens) / len(num_tokens)"
      ]
    },
    {
      "cell_type": "code",
      "execution_count": 31,
      "metadata": {
        "id": "qkdJn3YqGGbQ"
      },
      "outputs": [],
      "source": [
        "\n",
        "x_train_pad = np.array(pad_sequences(x_train_tokens, maxlen=max_tokens))\n",
        "x_test_pad = np.array(pad_sequences(x_test_tokens, maxlen=max_tokens))\n"
      ]
    },
    {
      "cell_type": "code",
      "execution_count": 32,
      "metadata": {
        "colab": {
          "base_uri": "https://localhost:8080/"
        },
        "id": "vnzmrjlkGTFg",
        "outputId": "7b6569b9-43f6-4c04-c2c7-edacabcc46a8"
      },
      "outputs": [
        {
          "output_type": "execute_result",
          "data": {
            "text/plain": [
              "array([   0,    0,    0,    0,    0,    0,    0,    0,    0,    0,    0,\n",
              "          0,    0,    0,    0,    0,    0,    0,    0,    0,    0,    0,\n",
              "          0,    0,    0,    0,    0,    0,    0,    0,    0,    0,    0,\n",
              "          0,    0, 8756,  584,   15, 1668,   21, 2353, 6749, 6750, 3101,\n",
              "         96,  795,  151,  104, 3574,  221, 2210,  719,  381, 8757,   72,\n",
              "         15, 2270], dtype=int32)"
            ]
          },
          "metadata": {},
          "execution_count": 32
        }
      ],
      "source": [
        "np.array(x_train_pad[3027])"
      ]
    },
    {
      "cell_type": "code",
      "execution_count": 33,
      "metadata": {
        "colab": {
          "base_uri": "https://localhost:8080/"
        },
        "id": "PHOAafVTGTIL",
        "outputId": "cc8f628f-1b34-4031-f9ef-f8b6961baeeb"
      },
      "outputs": [
        {
          "output_type": "execute_result",
          "data": {
            "text/plain": [
              "array([   0,    0,    0,    0,    0,    0,    0,    0,    0,    0,    0,\n",
              "          0,    0,    0,    0,    0,    0,    0,    0,    0,    0,    0,\n",
              "          0,    0,    0,    0,    0,    0,    0,    0,    0,    0,    0,\n",
              "          0,    0,    0,    0,    0,    0,    2,   38,   11,    6,   20,\n",
              "         76,   61, 3173,    4,  225,  237,  110, 2567,   73, 1125,    3,\n",
              "       1554,  135], dtype=int32)"
            ]
          },
          "metadata": {},
          "execution_count": 33
        }
      ],
      "source": [
        "x_test_pad[2000]"
      ]
    },
    {
      "cell_type": "code",
      "execution_count": 34,
      "metadata": {
        "id": "VJ5J9tlbGTKu"
      },
      "outputs": [],
      "source": [
        "\n",
        "idx = tokenizer.word_index\n",
        "inverse_map = dict(zip(idx.values(), idx.keys()))\n",
        "\n",
        "\n",
        "def tokens_to_string(tokens):\n",
        "    words = [inverse_map[token] for token in tokens if token!=0]\n",
        "    text = ' '.join(words)\n",
        "    return text"
      ]
    },
    {
      "cell_type": "code",
      "execution_count": 35,
      "metadata": {
        "id": "ENghZnzzGTM7"
      },
      "outputs": [],
      "source": [
        "import tensorflow as tf\n",
        "from tensorflow import keras\n",
        "from tensorflow.keras import layers\n",
        "#ardışık bir model\n",
        "model =Sequential()\n",
        "\n",
        "embedding_size = 50\n",
        "\n",
        "\n",
        "model.add(Embedding(input_dim=10000,\n",
        "                    output_dim=embedding_size,\n",
        "                    input_length=max_tokens,\n",
        "                    name='embedding_layer'))"
      ]
    },
    {
      "cell_type": "code",
      "execution_count": 36,
      "metadata": {
        "id": "68NBUjkFHCUF",
        "colab": {
          "base_uri": "https://localhost:8080/",
          "height": 1000
        },
        "outputId": "fb4b79e9-595f-4d2a-b95f-6c90c5a4ec10"
      },
      "outputs": [
        {
          "output_type": "stream",
          "name": "stdout",
          "text": [
            "Collecting tensorflow==2.2.0rc2\n",
            "  Downloading tensorflow-2.2.0rc2-cp37-cp37m-manylinux2010_x86_64.whl (516.2 MB)\n",
            "\u001b[K     |████████████████████████████████| 516.2 MB 2.4 kB/s \n",
            "\u001b[?25hCollecting h5py<2.11.0,>=2.10.0\n",
            "  Downloading h5py-2.10.0-cp37-cp37m-manylinux1_x86_64.whl (2.9 MB)\n",
            "\u001b[K     |████████████████████████████████| 2.9 MB 17.2 MB/s \n",
            "\u001b[?25hCollecting tensorflow-estimator<2.3.0,>=2.2.0rc0\n",
            "  Downloading tensorflow_estimator-2.2.0-py2.py3-none-any.whl (454 kB)\n",
            "\u001b[K     |████████████████████████████████| 454 kB 25.7 MB/s \n",
            "\u001b[?25hRequirement already satisfied: wheel>=0.26 in /usr/local/lib/python3.7/dist-packages (from tensorflow==2.2.0rc2) (0.37.1)\n",
            "Requirement already satisfied: termcolor>=1.1.0 in /usr/local/lib/python3.7/dist-packages (from tensorflow==2.2.0rc2) (1.1.0)\n",
            "Requirement already satisfied: keras-preprocessing>=1.1.0 in /usr/local/lib/python3.7/dist-packages (from tensorflow==2.2.0rc2) (1.1.2)\n",
            "Requirement already satisfied: google-pasta>=0.1.8 in /usr/local/lib/python3.7/dist-packages (from tensorflow==2.2.0rc2) (0.2.0)\n",
            "Collecting gast==0.3.3\n",
            "  Downloading gast-0.3.3-py2.py3-none-any.whl (9.7 kB)\n",
            "Requirement already satisfied: numpy<2.0,>=1.16.0 in /usr/local/lib/python3.7/dist-packages (from tensorflow==2.2.0rc2) (1.21.5)\n",
            "Requirement already satisfied: wrapt>=1.11.1 in /usr/local/lib/python3.7/dist-packages (from tensorflow==2.2.0rc2) (1.14.0)\n",
            "Requirement already satisfied: scipy==1.4.1 in /usr/local/lib/python3.7/dist-packages (from tensorflow==2.2.0rc2) (1.4.1)\n",
            "Requirement already satisfied: six>=1.12.0 in /usr/local/lib/python3.7/dist-packages (from tensorflow==2.2.0rc2) (1.15.0)\n",
            "Requirement already satisfied: grpcio>=1.8.6 in /usr/local/lib/python3.7/dist-packages (from tensorflow==2.2.0rc2) (1.44.0)\n",
            "Requirement already satisfied: astunparse==1.6.3 in /usr/local/lib/python3.7/dist-packages (from tensorflow==2.2.0rc2) (1.6.3)\n",
            "Requirement already satisfied: opt-einsum>=2.3.2 in /usr/local/lib/python3.7/dist-packages (from tensorflow==2.2.0rc2) (3.3.0)\n",
            "Collecting tensorboard<2.3.0,>=2.2.0\n",
            "  Downloading tensorboard-2.2.2-py3-none-any.whl (3.0 MB)\n",
            "\u001b[K     |████████████████████████████████| 3.0 MB 44.7 MB/s \n",
            "\u001b[?25hRequirement already satisfied: protobuf>=3.8.0 in /usr/local/lib/python3.7/dist-packages (from tensorflow==2.2.0rc2) (3.17.3)\n",
            "Requirement already satisfied: absl-py>=0.7.0 in /usr/local/lib/python3.7/dist-packages (from tensorflow==2.2.0rc2) (1.0.0)\n",
            "Requirement already satisfied: requests<3,>=2.21.0 in /usr/local/lib/python3.7/dist-packages (from tensorboard<2.3.0,>=2.2.0->tensorflow==2.2.0rc2) (2.23.0)\n",
            "Requirement already satisfied: werkzeug>=0.11.15 in /usr/local/lib/python3.7/dist-packages (from tensorboard<2.3.0,>=2.2.0->tensorflow==2.2.0rc2) (1.0.1)\n",
            "Requirement already satisfied: setuptools>=41.0.0 in /usr/local/lib/python3.7/dist-packages (from tensorboard<2.3.0,>=2.2.0->tensorflow==2.2.0rc2) (57.4.0)\n",
            "Requirement already satisfied: tensorboard-plugin-wit>=1.6.0 in /usr/local/lib/python3.7/dist-packages (from tensorboard<2.3.0,>=2.2.0->tensorflow==2.2.0rc2) (1.8.1)\n",
            "Requirement already satisfied: google-auth-oauthlib<0.5,>=0.4.1 in /usr/local/lib/python3.7/dist-packages (from tensorboard<2.3.0,>=2.2.0->tensorflow==2.2.0rc2) (0.4.6)\n",
            "Requirement already satisfied: markdown>=2.6.8 in /usr/local/lib/python3.7/dist-packages (from tensorboard<2.3.0,>=2.2.0->tensorflow==2.2.0rc2) (3.3.6)\n",
            "Requirement already satisfied: google-auth<2,>=1.6.3 in /usr/local/lib/python3.7/dist-packages (from tensorboard<2.3.0,>=2.2.0->tensorflow==2.2.0rc2) (1.35.0)\n",
            "Requirement already satisfied: cachetools<5.0,>=2.0.0 in /usr/local/lib/python3.7/dist-packages (from google-auth<2,>=1.6.3->tensorboard<2.3.0,>=2.2.0->tensorflow==2.2.0rc2) (4.2.4)\n",
            "Requirement already satisfied: rsa<5,>=3.1.4 in /usr/local/lib/python3.7/dist-packages (from google-auth<2,>=1.6.3->tensorboard<2.3.0,>=2.2.0->tensorflow==2.2.0rc2) (4.8)\n",
            "Requirement already satisfied: pyasn1-modules>=0.2.1 in /usr/local/lib/python3.7/dist-packages (from google-auth<2,>=1.6.3->tensorboard<2.3.0,>=2.2.0->tensorflow==2.2.0rc2) (0.2.8)\n",
            "Requirement already satisfied: requests-oauthlib>=0.7.0 in /usr/local/lib/python3.7/dist-packages (from google-auth-oauthlib<0.5,>=0.4.1->tensorboard<2.3.0,>=2.2.0->tensorflow==2.2.0rc2) (1.3.1)\n",
            "Requirement already satisfied: importlib-metadata>=4.4 in /usr/local/lib/python3.7/dist-packages (from markdown>=2.6.8->tensorboard<2.3.0,>=2.2.0->tensorflow==2.2.0rc2) (4.11.3)\n",
            "Requirement already satisfied: typing-extensions>=3.6.4 in /usr/local/lib/python3.7/dist-packages (from importlib-metadata>=4.4->markdown>=2.6.8->tensorboard<2.3.0,>=2.2.0->tensorflow==2.2.0rc2) (3.10.0.2)\n",
            "Requirement already satisfied: zipp>=0.5 in /usr/local/lib/python3.7/dist-packages (from importlib-metadata>=4.4->markdown>=2.6.8->tensorboard<2.3.0,>=2.2.0->tensorflow==2.2.0rc2) (3.7.0)\n",
            "Requirement already satisfied: pyasn1<0.5.0,>=0.4.6 in /usr/local/lib/python3.7/dist-packages (from pyasn1-modules>=0.2.1->google-auth<2,>=1.6.3->tensorboard<2.3.0,>=2.2.0->tensorflow==2.2.0rc2) (0.4.8)\n",
            "Requirement already satisfied: chardet<4,>=3.0.2 in /usr/local/lib/python3.7/dist-packages (from requests<3,>=2.21.0->tensorboard<2.3.0,>=2.2.0->tensorflow==2.2.0rc2) (3.0.4)\n",
            "Requirement already satisfied: urllib3!=1.25.0,!=1.25.1,<1.26,>=1.21.1 in /usr/local/lib/python3.7/dist-packages (from requests<3,>=2.21.0->tensorboard<2.3.0,>=2.2.0->tensorflow==2.2.0rc2) (1.24.3)\n",
            "Requirement already satisfied: certifi>=2017.4.17 in /usr/local/lib/python3.7/dist-packages (from requests<3,>=2.21.0->tensorboard<2.3.0,>=2.2.0->tensorflow==2.2.0rc2) (2021.10.8)\n",
            "Requirement already satisfied: idna<3,>=2.5 in /usr/local/lib/python3.7/dist-packages (from requests<3,>=2.21.0->tensorboard<2.3.0,>=2.2.0->tensorflow==2.2.0rc2) (2.10)\n",
            "Requirement already satisfied: oauthlib>=3.0.0 in /usr/local/lib/python3.7/dist-packages (from requests-oauthlib>=0.7.0->google-auth-oauthlib<0.5,>=0.4.1->tensorboard<2.3.0,>=2.2.0->tensorflow==2.2.0rc2) (3.2.0)\n",
            "Installing collected packages: tensorflow-estimator, tensorboard, h5py, gast, tensorflow\n",
            "  Attempting uninstall: tensorflow-estimator\n",
            "    Found existing installation: tensorflow-estimator 2.8.0\n",
            "    Uninstalling tensorflow-estimator-2.8.0:\n",
            "      Successfully uninstalled tensorflow-estimator-2.8.0\n",
            "  Attempting uninstall: tensorboard\n",
            "    Found existing installation: tensorboard 2.8.0\n",
            "    Uninstalling tensorboard-2.8.0:\n",
            "      Successfully uninstalled tensorboard-2.8.0\n",
            "  Attempting uninstall: h5py\n",
            "    Found existing installation: h5py 3.1.0\n",
            "    Uninstalling h5py-3.1.0:\n",
            "      Successfully uninstalled h5py-3.1.0\n",
            "  Attempting uninstall: gast\n",
            "    Found existing installation: gast 0.5.3\n",
            "    Uninstalling gast-0.5.3:\n",
            "      Successfully uninstalled gast-0.5.3\n",
            "  Attempting uninstall: tensorflow\n",
            "    Found existing installation: tensorflow 2.8.0\n",
            "    Uninstalling tensorflow-2.8.0:\n",
            "      Successfully uninstalled tensorflow-2.8.0\n",
            "Successfully installed gast-0.3.3 h5py-2.10.0 tensorboard-2.2.2 tensorflow-2.2.0rc2 tensorflow-estimator-2.2.0\n"
          ]
        },
        {
          "output_type": "display_data",
          "data": {
            "application/vnd.colab-display-data+json": {
              "pip_warning": {
                "packages": [
                  "gast",
                  "h5py",
                  "tensorboard",
                  "tensorflow"
                ]
              }
            }
          },
          "metadata": {}
        },
        {
          "output_type": "stream",
          "name": "stdout",
          "text": [
            "Collecting keras==2.2.4\n",
            "  Downloading Keras-2.2.4-py2.py3-none-any.whl (312 kB)\n",
            "\u001b[?25l\r\u001b[K     |█                               | 10 kB 17.5 MB/s eta 0:00:01\r\u001b[K     |██                              | 20 kB 13.1 MB/s eta 0:00:01\r\u001b[K     |███▏                            | 30 kB 9.8 MB/s eta 0:00:01\r\u001b[K     |████▏                           | 40 kB 8.8 MB/s eta 0:00:01\r\u001b[K     |█████▎                          | 51 kB 4.4 MB/s eta 0:00:01\r\u001b[K     |██████▎                         | 61 kB 5.2 MB/s eta 0:00:01\r\u001b[K     |███████▍                        | 71 kB 5.5 MB/s eta 0:00:01\r\u001b[K     |████████▍                       | 81 kB 5.7 MB/s eta 0:00:01\r\u001b[K     |█████████▍                      | 92 kB 6.2 MB/s eta 0:00:01\r\u001b[K     |██████████▌                     | 102 kB 5.0 MB/s eta 0:00:01\r\u001b[K     |███████████▌                    | 112 kB 5.0 MB/s eta 0:00:01\r\u001b[K     |████████████▋                   | 122 kB 5.0 MB/s eta 0:00:01\r\u001b[K     |█████████████▋                  | 133 kB 5.0 MB/s eta 0:00:01\r\u001b[K     |██████████████▊                 | 143 kB 5.0 MB/s eta 0:00:01\r\u001b[K     |███████████████▊                | 153 kB 5.0 MB/s eta 0:00:01\r\u001b[K     |████████████████▊               | 163 kB 5.0 MB/s eta 0:00:01\r\u001b[K     |█████████████████▉              | 174 kB 5.0 MB/s eta 0:00:01\r\u001b[K     |██████████████████▉             | 184 kB 5.0 MB/s eta 0:00:01\r\u001b[K     |████████████████████            | 194 kB 5.0 MB/s eta 0:00:01\r\u001b[K     |█████████████████████           | 204 kB 5.0 MB/s eta 0:00:01\r\u001b[K     |██████████████████████          | 215 kB 5.0 MB/s eta 0:00:01\r\u001b[K     |███████████████████████         | 225 kB 5.0 MB/s eta 0:00:01\r\u001b[K     |████████████████████████▏       | 235 kB 5.0 MB/s eta 0:00:01\r\u001b[K     |█████████████████████████▏      | 245 kB 5.0 MB/s eta 0:00:01\r\u001b[K     |██████████████████████████▏     | 256 kB 5.0 MB/s eta 0:00:01\r\u001b[K     |███████████████████████████▎    | 266 kB 5.0 MB/s eta 0:00:01\r\u001b[K     |████████████████████████████▎   | 276 kB 5.0 MB/s eta 0:00:01\r\u001b[K     |█████████████████████████████▍  | 286 kB 5.0 MB/s eta 0:00:01\r\u001b[K     |██████████████████████████████▍ | 296 kB 5.0 MB/s eta 0:00:01\r\u001b[K     |███████████████████████████████▌| 307 kB 5.0 MB/s eta 0:00:01\r\u001b[K     |████████████████████████████████| 312 kB 5.0 MB/s \n",
            "\u001b[?25hRequirement already satisfied: h5py in /usr/local/lib/python3.7/dist-packages (from keras==2.2.4) (2.10.0)\n",
            "Requirement already satisfied: scipy>=0.14 in /usr/local/lib/python3.7/dist-packages (from keras==2.2.4) (1.4.1)\n",
            "Requirement already satisfied: pyyaml in /usr/local/lib/python3.7/dist-packages (from keras==2.2.4) (3.13)\n",
            "Collecting keras-applications>=1.0.6\n",
            "  Downloading Keras_Applications-1.0.8-py3-none-any.whl (50 kB)\n",
            "\u001b[K     |████████████████████████████████| 50 kB 5.3 MB/s \n",
            "\u001b[?25hRequirement already satisfied: keras-preprocessing>=1.0.5 in /usr/local/lib/python3.7/dist-packages (from keras==2.2.4) (1.1.2)\n",
            "Requirement already satisfied: numpy>=1.9.1 in /usr/local/lib/python3.7/dist-packages (from keras==2.2.4) (1.21.5)\n",
            "Requirement already satisfied: six>=1.9.0 in /usr/local/lib/python3.7/dist-packages (from keras==2.2.4) (1.15.0)\n",
            "Installing collected packages: keras-applications, keras\n",
            "  Attempting uninstall: keras\n",
            "    Found existing installation: keras 2.8.0\n",
            "    Uninstalling keras-2.8.0:\n",
            "      Successfully uninstalled keras-2.8.0\n",
            "Successfully installed keras-2.2.4 keras-applications-1.0.8\n"
          ]
        },
        {
          "output_type": "display_data",
          "data": {
            "application/vnd.colab-display-data+json": {
              "pip_warning": {
                "packages": [
                  "keras"
                ]
              }
            }
          },
          "metadata": {}
        }
      ],
      "source": [
        "!pip install tensorflow==2.2.0rc2\n",
        "!pip install keras==2.2.4"
      ]
    },
    {
      "cell_type": "code",
      "execution_count": 37,
      "metadata": {
        "id": "5hiYjACWGTPw"
      },
      "outputs": [],
      "source": [
        "\n",
        "model.add(LSTM(units=16, return_sequences=True))\n",
        "\n",
        "model.add(LSTM(units=8, return_sequences=True))\n",
        "\n",
        "model.add(LSTM(units=4))\n",
        "\n",
        "model.add(Dense(1, activation='sigmoid'))"
      ]
    },
    {
      "cell_type": "code",
      "execution_count": 38,
      "metadata": {
        "id": "rE5xURG1MV99"
      },
      "outputs": [],
      "source": [
        "\n",
        "\n",
        "adam = keras.optimizers.Adam(learning_rate=0.0001)\n",
        "\n",
        "model.compile(loss='binary_crossentropy',\n",
        "              optimizer='adam',\n",
        "              metrics=['accuracy'])"
      ]
    },
    {
      "cell_type": "code",
      "execution_count": 39,
      "metadata": {
        "colab": {
          "base_uri": "https://localhost:8080/"
        },
        "id": "kt7BQK66MPAq",
        "outputId": "dde1829a-f45a-4393-a7a2-5a0ead520456"
      },
      "outputs": [
        {
          "output_type": "stream",
          "name": "stdout",
          "text": [
            "Model: \"sequential\"\n",
            "_________________________________________________________________\n",
            "Layer (type)                 Output Shape              Param #   \n",
            "=================================================================\n",
            "embedding_layer (Embedding)  (None, 57, 50)            500000    \n",
            "_________________________________________________________________\n",
            "lstm (LSTM)                  (None, 57, 16)            4288      \n",
            "_________________________________________________________________\n",
            "lstm_1 (LSTM)                (None, 57, 8)             800       \n",
            "_________________________________________________________________\n",
            "lstm_2 (LSTM)                (None, 4)                 208       \n",
            "_________________________________________________________________\n",
            "dense (Dense)                (None, 1)                 5         \n",
            "=================================================================\n",
            "Total params: 505,301\n",
            "Trainable params: 505,301\n",
            "Non-trainable params: 0\n",
            "_________________________________________________________________\n"
          ]
        }
      ],
      "source": [
        "model.summary()"
      ]
    },
    {
      "cell_type": "code",
      "execution_count": 40,
      "metadata": {
        "colab": {
          "base_uri": "https://localhost:8080/"
        },
        "id": "Wzh5gGypGTSn",
        "outputId": "e5725d78-5e44-4609-9b42-9d0530290009"
      },
      "outputs": [
        {
          "output_type": "stream",
          "name": "stdout",
          "text": [
            "Epoch 1/5\n",
            "WARNING:tensorflow:AutoGraph could not transform <function Model.make_train_function.<locals>.train_function at 0x7f1308a99dd0> and will run it as-is.\n",
            "Please report this to the TensorFlow team. When filing the bug, set the verbosity to 10 (on Linux, `export AUTOGRAPH_VERBOSITY=10`) and attach the full output.\n",
            "Cause: closure mismatch, requested ('self', 'step_function'), but source function had ()\n",
            "To silence this warning, decorate the function with @tf.autograph.experimental.do_not_convert\n",
            "WARNING: AutoGraph could not transform <function Model.make_train_function.<locals>.train_function at 0x7f1308a99dd0> and will run it as-is.\n",
            "Please report this to the TensorFlow team. When filing the bug, set the verbosity to 10 (on Linux, `export AUTOGRAPH_VERBOSITY=10`) and attach the full output.\n",
            "Cause: closure mismatch, requested ('self', 'step_function'), but source function had ()\n",
            "To silence this warning, decorate the function with @tf.autograph.experimental.do_not_convert\n",
            "179/179 [==============================] - ETA: 0s - loss: 0.4699 - accuracy: 0.8001WARNING:tensorflow:AutoGraph could not transform <function Model.make_test_function.<locals>.test_function at 0x7f1309234ef0> and will run it as-is.\n",
            "Please report this to the TensorFlow team. When filing the bug, set the verbosity to 10 (on Linux, `export AUTOGRAPH_VERBOSITY=10`) and attach the full output.\n",
            "Cause: closure mismatch, requested ('self', 'step_function'), but source function had ()\n",
            "To silence this warning, decorate the function with @tf.autograph.experimental.do_not_convert\n",
            "WARNING: AutoGraph could not transform <function Model.make_test_function.<locals>.test_function at 0x7f1309234ef0> and will run it as-is.\n",
            "Please report this to the TensorFlow team. When filing the bug, set the verbosity to 10 (on Linux, `export AUTOGRAPH_VERBOSITY=10`) and attach the full output.\n",
            "Cause: closure mismatch, requested ('self', 'step_function'), but source function had ()\n",
            "To silence this warning, decorate the function with @tf.autograph.experimental.do_not_convert\n",
            "179/179 [==============================] - 68s 324ms/step - loss: 0.4699 - accuracy: 0.8001 - val_loss: 0.3165 - val_accuracy: 0.8875\n",
            "Epoch 2/5\n",
            "179/179 [==============================] - 30s 166ms/step - loss: 0.2504 - accuracy: 0.9182 - val_loss: 0.2461 - val_accuracy: 0.9062\n",
            "Epoch 3/5\n",
            "179/179 [==============================] - 30s 166ms/step - loss: 0.1559 - accuracy: 0.9556 - val_loss: 0.2147 - val_accuracy: 0.9267\n",
            "Epoch 4/5\n",
            "179/179 [==============================] - 31s 172ms/step - loss: 0.0953 - accuracy: 0.9755 - val_loss: 0.2315 - val_accuracy: 0.9269\n",
            "Epoch 5/5\n",
            "179/179 [==============================] - 29s 164ms/step - loss: 0.0741 - accuracy: 0.9820 - val_loss: 0.2335 - val_accuracy: 0.9269\n"
          ]
        }
      ],
      "source": [
        "\n",
        "x_train_pad=np.array(x_train_pad)\n",
        "y_train =np.array(y_train)\n",
        "\n",
        "history = model.fit(x_train_pad, y_train, epochs=5, batch_size=64,validation_split=0.25)"
      ]
    },
    {
      "cell_type": "code",
      "execution_count": 41,
      "metadata": {
        "id": "eDIEy0mVjC2i"
      },
      "outputs": [],
      "source": [
        "model.save(\"sentiment_model.h5\")"
      ]
    },
    {
      "cell_type": "code",
      "execution_count": 42,
      "metadata": {
        "colab": {
          "base_uri": "https://localhost:8080/"
        },
        "id": "Yrz_e-JljEq8",
        "outputId": "3aa39ede-a3d8-413e-ee21-8324223eb5d8"
      },
      "outputs": [
        {
          "output_type": "stream",
          "name": "stdout",
          "text": [
            "119/119 [==============================] - 3s 22ms/step - loss: 0.2567 - accuracy: 0.9191\n"
          ]
        }
      ],
      "source": [
        "\n",
        "x_test_pad=np.array(x_test_pad)\n",
        "y_test =np.array(y_test)\n",
        "result = model.evaluate(x_test_pad, y_test)"
      ]
    },
    {
      "cell_type": "code",
      "execution_count": 43,
      "metadata": {
        "colab": {
          "base_uri": "https://localhost:8080/"
        },
        "id": "J0YEVVgvjWaZ",
        "outputId": "94c92edd-edc6-4204-bf97-2d85f713f66f"
      },
      "outputs": [
        {
          "output_type": "execute_result",
          "data": {
            "text/plain": [
              "0.919053852558136"
            ]
          },
          "metadata": {},
          "execution_count": 43
        }
      ],
      "source": [
        "result[1]"
      ]
    },
    {
      "cell_type": "code",
      "execution_count": 44,
      "metadata": {
        "colab": {
          "base_uri": "https://localhost:8080/"
        },
        "id": "6_WIJgqxjWdT",
        "outputId": "e1a51837-eaf4-4438-f6d1-c9545cd0b474"
      },
      "outputs": [
        {
          "output_type": "stream",
          "name": "stdout",
          "text": [
            "WARNING:tensorflow:AutoGraph could not transform <function Model.make_predict_function.<locals>.predict_function at 0x7f130934e4d0> and will run it as-is.\n",
            "Please report this to the TensorFlow team. When filing the bug, set the verbosity to 10 (on Linux, `export AUTOGRAPH_VERBOSITY=10`) and attach the full output.\n",
            "Cause: closure mismatch, requested ('self', 'step_function'), but source function had ()\n",
            "To silence this warning, decorate the function with @tf.autograph.experimental.do_not_convert\n",
            "WARNING: AutoGraph could not transform <function Model.make_predict_function.<locals>.predict_function at 0x7f130934e4d0> and will run it as-is.\n",
            "Please report this to the TensorFlow team. When filing the bug, set the verbosity to 10 (on Linux, `export AUTOGRAPH_VERBOSITY=10`) and attach the full output.\n",
            "Cause: closure mismatch, requested ('self', 'step_function'), but source function had ()\n",
            "To silence this warning, decorate the function with @tf.autograph.experimental.do_not_convert\n"
          ]
        },
        {
          "output_type": "stream",
          "name": "stderr",
          "text": [
            "/usr/local/lib/python3.7/dist-packages/tensorflow/python/keras/engine/sequential.py:454: UserWarning: `model.predict_classes()` is deprecated and will be removed after 2021-01-01. Please use instead:* `np.argmax(model.predict(x), axis=-1)`,   if your model does multi-class classification   (e.g. if it uses a `softmax` last-layer activation).* `(model.predict(x) > 0.5).astype(\"int32\")`,   if your model does binary classification   (e.g. if it uses a `sigmoid` last-layer activation).\n"
          ]
        }
      ],
      "source": [
        "y_pred = model.predict_classes(x=x_test_pad[:700])\n"
      ]
    },
    {
      "cell_type": "code",
      "execution_count": 45,
      "metadata": {
        "id": "wAY6P8objWf1"
      },
      "outputs": [],
      "source": [
        "y_pred = y_pred.T[0]"
      ]
    },
    {
      "cell_type": "code",
      "execution_count": 46,
      "metadata": {
        "colab": {
          "base_uri": "https://localhost:8080/"
        },
        "id": "AC7sko4FjEth",
        "outputId": "6341d7ed-452b-4df1-aa31-c3584702a8cc"
      },
      "outputs": [
        {
          "output_type": "execute_result",
          "data": {
            "text/plain": [
              "array([1, 0, 1, 0, 1, 1, 0, 1, 1, 1, 1, 0, 1, 1, 0, 0, 1, 1, 1, 1, 1, 1,\n",
              "       0, 1, 1, 1, 1, 1, 0, 1, 1, 1, 1, 1, 1, 0, 1, 1, 1, 1, 1, 0, 0, 1,\n",
              "       1, 1, 1, 1, 1, 1, 1, 0, 1, 1, 1, 0, 0, 1, 0, 0, 1, 0, 1, 0, 1, 1,\n",
              "       1, 1, 0, 1, 0, 1, 1, 0, 0, 1, 0, 1, 1, 1, 1, 1, 1, 1, 0, 1, 1, 1,\n",
              "       1, 1, 0, 1, 1, 1, 1, 0, 1, 1, 1, 1, 0, 1, 1, 1, 0, 1, 1, 1, 1, 1,\n",
              "       1, 1, 1, 1, 1, 1, 1, 1, 0, 0, 1, 1, 0, 1, 1, 1, 0, 0, 0, 0, 0, 1,\n",
              "       1, 0, 1, 1, 1, 1, 0, 1, 1, 1, 1, 1, 1, 1, 1, 1, 1, 1, 0, 1, 1, 1,\n",
              "       1, 0, 1, 1, 1, 1, 0, 1, 1, 0, 1, 1, 1, 0, 1, 0, 1, 1, 1, 1, 1, 1,\n",
              "       1, 1, 1, 1, 0, 0, 0, 0, 1, 1, 0, 1, 1, 1, 1, 1, 1, 0, 1, 1, 1, 0,\n",
              "       1, 0, 1, 0, 1, 1, 1, 0, 1, 1, 0, 0, 1, 1, 1, 1, 1, 1, 1, 1, 1, 1,\n",
              "       1, 1, 1, 1, 0, 1, 1, 0, 1, 1, 1, 1, 1, 1, 0, 1, 1, 1, 1, 1, 1, 1,\n",
              "       0, 1, 1, 1, 1, 1, 1, 1, 1, 1, 1, 1, 1, 1, 1, 1, 0, 1, 1, 0, 1, 1,\n",
              "       1, 1, 1, 0, 1, 0, 1, 1, 1, 1, 1, 1, 0, 1, 0, 1, 0, 0, 1, 1, 1, 1,\n",
              "       0, 1, 1, 0, 0, 1, 1, 0, 1, 1, 1, 1, 1, 1, 1, 0, 0, 1, 1, 1, 0, 1,\n",
              "       1, 1, 1, 1, 1, 0, 0, 0, 1, 0, 1, 1, 1, 1, 0, 0, 1, 1, 0, 1, 0, 1,\n",
              "       1, 0, 1, 1, 1, 1, 0, 1, 0, 1, 1, 1, 1, 1, 0, 0, 1, 1, 1, 1, 0, 1,\n",
              "       1, 1, 1, 1, 0, 0, 0, 0, 1, 0, 1, 0, 1, 1, 0, 1, 1, 1, 0, 1, 1, 1,\n",
              "       1, 1, 1, 1, 1, 1, 0, 1, 1, 0, 1, 1, 1, 1, 1, 0, 1, 1, 1, 1, 1, 1,\n",
              "       1, 0, 1, 1, 1, 1, 0, 1, 1, 1, 0, 0, 1, 1, 0, 0, 1, 1, 1, 1, 0, 1,\n",
              "       1, 1, 1, 1, 1, 1, 1, 1, 1, 1, 1, 1, 1, 1, 0, 1, 0, 1, 1, 0, 0, 1,\n",
              "       1, 1, 1, 1, 1, 1, 1, 1, 1, 1, 0, 0, 1, 1, 1, 0, 1, 1, 1, 1, 1, 1,\n",
              "       0, 1, 1, 1, 1, 0, 1, 0, 0, 1, 1, 1, 1, 1, 1, 1, 1, 1, 1, 1, 1, 0,\n",
              "       1, 1, 0, 1, 0, 1, 0, 1, 1, 1, 1, 0, 1, 1, 1, 1, 1, 1, 1, 1, 1, 1,\n",
              "       1, 1, 0, 1, 0, 1, 0, 1, 1, 1, 1, 1, 0, 1, 0, 1, 1, 1, 1, 1, 1, 1,\n",
              "       1, 1, 1, 1, 0, 1, 0, 1, 1, 1, 1, 1, 1, 0, 0, 1, 1, 0, 1, 0, 0, 1,\n",
              "       1, 1, 1, 1, 1, 1, 0, 1, 1, 1, 1, 1, 1, 1, 1, 0, 1, 1, 0, 1, 1, 0,\n",
              "       1, 1, 0, 1, 1, 1, 1, 0, 1, 1, 1, 1, 1, 1, 1, 0, 1, 1, 1, 1, 1, 1,\n",
              "       1, 1, 1, 0, 1, 0, 1, 1, 1, 1, 1, 1, 0, 1, 1, 1, 1, 1, 1, 1, 1, 1,\n",
              "       0, 1, 1, 0, 0, 0, 1, 1, 1, 1, 1, 1, 0, 1, 1, 1, 0, 0, 1, 0, 0, 1,\n",
              "       1, 0, 0, 0, 1, 1, 1, 1, 1, 1, 1, 1, 1, 1, 0, 1, 1, 1, 1, 0, 1, 1,\n",
              "       0, 1, 1, 1, 0, 1, 1, 0, 0, 1, 1, 1, 1, 1, 1, 1, 1, 1, 1, 1, 1, 0,\n",
              "       0, 1, 1, 1, 1, 1, 0, 1, 1, 1, 1, 1, 1, 1, 1, 1, 1, 0], dtype=int32)"
            ]
          },
          "metadata": {},
          "execution_count": 46
        }
      ],
      "source": [
        "y_pred"
      ]
    },
    {
      "cell_type": "code",
      "execution_count": 77,
      "metadata": {
        "id": "XgeMDFjsjcqw"
      },
      "outputs": [],
      "source": [
        "text = \"j7 pro cihaz gelt fakat fatura gelm.\"\n",
        "texts = [text]\n",
        "tokens = tokenizer.texts_to_sequences(texts)"
      ]
    },
    {
      "cell_type": "code",
      "execution_count": 78,
      "metadata": {
        "colab": {
          "base_uri": "https://localhost:8080/"
        },
        "id": "LO_Lfv7mjctg",
        "outputId": "aff80de9-635d-4698-861e-2378aa6973ac"
      },
      "outputs": [
        {
          "output_type": "execute_result",
          "data": {
            "text/plain": [
              "(1, 57)"
            ]
          },
          "metadata": {},
          "execution_count": 78
        }
      ],
      "source": [
        "tokens_pad = pad_sequences(tokens,maxlen = max_tokens)\n",
        "tokens_pad.shape"
      ]
    },
    {
      "cell_type": "code",
      "execution_count": 79,
      "metadata": {
        "colab": {
          "base_uri": "https://localhost:8080/"
        },
        "id": "1n8n_icUjcv4",
        "outputId": "c1f2eb03-80fe-4dca-d80d-79414816f6e2"
      },
      "outputs": [
        {
          "output_type": "stream",
          "name": "stdout",
          "text": [
            "moralinizin 1 olduğunu görüyorum. \n"
          ]
        },
        {
          "output_type": "stream",
          "name": "stderr",
          "text": [
            "/usr/local/lib/python3.7/dist-packages/tensorflow/python/keras/engine/sequential.py:454: UserWarning: `model.predict_classes()` is deprecated and will be removed after 2021-01-01. Please use instead:* `np.argmax(model.predict(x), axis=-1)`,   if your model does multi-class classification   (e.g. if it uses a `softmax` last-layer activation).* `(model.predict(x) > 0.5).astype(\"int32\")`,   if your model does binary classification   (e.g. if it uses a `sigmoid` last-layer activation).\n"
          ]
        }
      ],
      "source": [
        "print(\"moralinizin {} olduğunu görüyorum. \".format(model.predict_classes(tokens_pad).tolist()[0][0]))\n"
      ]
    },
    {
      "cell_type": "code",
      "execution_count": 52,
      "metadata": {
        "colab": {
          "base_uri": "https://localhost:8080/",
          "height": 621
        },
        "id": "tvKq_1gXjcyn",
        "outputId": "3cafaf86-6ef4-40cb-98e2-f214d4914c74"
      },
      "outputs": [
        {
          "output_type": "display_data",
          "data": {
            "text/plain": [
              "<Figure size 1080x720 with 1 Axes>"
            ],
            "image/png": "[encoded data removed]"
          },
          "metadata": {
            "needs_background": "light"
          }
        }
      ],
      "source": [
        "import matplotlib.pyplot as plt\n",
        "plt.figure(figsize = (15,10))\n",
        "plt.plot(history.history['loss'])\n",
        "plt.plot(history.history['val_loss'])\n",
        "plt.title('Model loss')\n",
        "plt.ylabel('Loss')\n",
        "plt.xlabel('Epoch')\n",
        "plt.legend(['Train', 'Test'], loc='upper left')\n",
        "plt.show()"
      ]
    },
    {
      "cell_type": "code",
      "execution_count": 53,
      "metadata": {
        "colab": {
          "base_uri": "https://localhost:8080/",
          "height": 621
        },
        "id": "g-coQKrEkz5D",
        "outputId": "dceafb2c-dc64-43fa-c252-cd637525357e"
      },
      "outputs": [
        {
          "output_type": "display_data",
          "data": {
            "text/plain": [
              "<Figure size 1080x720 with 1 Axes>"
            ],
            "image/png": "[encoded data removed]"
          },
          "metadata": {
            "needs_background": "light"
          }
        }
      ],
      "source": [
        "import matplotlib.pyplot as plt\n",
        "plt.figure(figsize = (15,10))\n",
        "plt.plot(history.history['accuracy'])\n",
        "plt.plot(history.history['val_accuracy'])\n",
        "plt.title('Model accuracy')\n",
        "plt.ylabel('Accuracy')\n",
        "plt.xlabel('Epoch')\n",
        "plt.legend(['Train', 'Test'], loc='upper left')\n",
        "plt.show()"
      ]
    },
    {
      "cell_type": "markdown",
      "metadata": {
        "id": "bAaGF_g0DiLH"
      },
      "source": [
        "# Yeni Bölüm"
      ]
    },
    {
      "cell_type": "markdown",
      "metadata": {
        "id": "-Flm0vp169Qh"
      },
      "source": [
        ""
      ]
    }
  ],
  "metadata": {
    "colab": {
      "collapsed_sections": [],
      "name": "deepLearning.ipynb adlı not defterinin kopyası",
      "provenance": [],
      "include_colab_link": true
    },
    "kernelspec": {
      "display_name": "Python 3",
      "name": "python3"
    },
    "language_info": {
      "name": "python"
    }
  },
  "nbformat": 4,
  "nbformat_minor": 0
}